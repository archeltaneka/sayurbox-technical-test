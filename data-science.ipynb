{
 "cells": [
  {
   "cell_type": "code",
   "execution_count": 4,
   "id": "responsible-season",
   "metadata": {},
   "outputs": [],
   "source": [
    "import numpy as np\n",
    "import pandas as pd\n",
    "\n",
    "import matplotlib.pyplot as plt\n",
    "import seaborn as sns\n",
    "%matplotlib inline"
   ]
  },
  {
   "cell_type": "code",
   "execution_count": 5,
   "id": "hawaiian-furniture",
   "metadata": {},
   "outputs": [
    {
     "name": "stdout",
     "output_type": "stream",
     "text": [
      "Number of rows: 858220\n"
     ]
    },
    {
     "data": {
      "text/html": [
       "<div>\n",
       "<style scoped>\n",
       "    .dataframe tbody tr th:only-of-type {\n",
       "        vertical-align: middle;\n",
       "    }\n",
       "\n",
       "    .dataframe tbody tr th {\n",
       "        vertical-align: top;\n",
       "    }\n",
       "\n",
       "    .dataframe thead th {\n",
       "        text-align: right;\n",
       "    }\n",
       "</style>\n",
       "<table border=\"1\" class=\"dataframe\">\n",
       "  <thead>\n",
       "    <tr style=\"text-align: right;\">\n",
       "      <th></th>\n",
       "      <th>date</th>\n",
       "      <th>store</th>\n",
       "      <th>item</th>\n",
       "      <th>sales</th>\n",
       "    </tr>\n",
       "  </thead>\n",
       "  <tbody>\n",
       "    <tr>\n",
       "      <th>0</th>\n",
       "      <td>1/1/13</td>\n",
       "      <td>1</td>\n",
       "      <td>1</td>\n",
       "      <td>13.0</td>\n",
       "    </tr>\n",
       "    <tr>\n",
       "      <th>1</th>\n",
       "      <td>1/2/13</td>\n",
       "      <td>1</td>\n",
       "      <td>1</td>\n",
       "      <td>11.0</td>\n",
       "    </tr>\n",
       "    <tr>\n",
       "      <th>2</th>\n",
       "      <td>1/3/13</td>\n",
       "      <td>1</td>\n",
       "      <td>1</td>\n",
       "      <td>14.0</td>\n",
       "    </tr>\n",
       "    <tr>\n",
       "      <th>3</th>\n",
       "      <td>1/4/13</td>\n",
       "      <td>1</td>\n",
       "      <td>1</td>\n",
       "      <td>13.0</td>\n",
       "    </tr>\n",
       "    <tr>\n",
       "      <th>4</th>\n",
       "      <td>1/5/13</td>\n",
       "      <td>1</td>\n",
       "      <td>1</td>\n",
       "      <td>10.0</td>\n",
       "    </tr>\n",
       "  </tbody>\n",
       "</table>\n",
       "</div>"
      ],
      "text/plain": [
       "     date  store  item  sales\n",
       "0  1/1/13      1     1   13.0\n",
       "1  1/2/13      1     1   11.0\n",
       "2  1/3/13      1     1   14.0\n",
       "3  1/4/13      1     1   13.0\n",
       "4  1/5/13      1     1   10.0"
      ]
     },
     "execution_count": 5,
     "metadata": {},
     "output_type": "execute_result"
    }
   ],
   "source": [
    "raw_data = pd.read_csv('./data/online-test-dataset.csv')\n",
    "print('Number of rows:', len(raw_data))\n",
    "raw_data.head()"
   ]
  },
  {
   "cell_type": "markdown",
   "id": "green-duration",
   "metadata": {},
   "source": [
    "## EDA"
   ]
  },
  {
   "cell_type": "code",
   "execution_count": 6,
   "id": "grave-grenada",
   "metadata": {},
   "outputs": [],
   "source": [
    "df = raw_data.copy()"
   ]
  },
  {
   "cell_type": "code",
   "execution_count": 7,
   "id": "false-device",
   "metadata": {},
   "outputs": [
    {
     "data": {
      "text/html": [
       "<div>\n",
       "<style scoped>\n",
       "    .dataframe tbody tr th:only-of-type {\n",
       "        vertical-align: middle;\n",
       "    }\n",
       "\n",
       "    .dataframe tbody tr th {\n",
       "        vertical-align: top;\n",
       "    }\n",
       "\n",
       "    .dataframe thead th {\n",
       "        text-align: right;\n",
       "    }\n",
       "</style>\n",
       "<table border=\"1\" class=\"dataframe\">\n",
       "  <thead>\n",
       "    <tr style=\"text-align: right;\">\n",
       "      <th></th>\n",
       "      <th>store</th>\n",
       "      <th>item</th>\n",
       "      <th>sales</th>\n",
       "    </tr>\n",
       "  </thead>\n",
       "  <tbody>\n",
       "    <tr>\n",
       "      <th>count</th>\n",
       "      <td>858220.000000</td>\n",
       "      <td>858220.000000</td>\n",
       "      <td>848302.000000</td>\n",
       "    </tr>\n",
       "    <tr>\n",
       "      <th>mean</th>\n",
       "      <td>5.500000</td>\n",
       "      <td>24.000000</td>\n",
       "      <td>52.754637</td>\n",
       "    </tr>\n",
       "    <tr>\n",
       "      <th>std</th>\n",
       "      <td>2.872283</td>\n",
       "      <td>13.564668</td>\n",
       "      <td>29.116697</td>\n",
       "    </tr>\n",
       "    <tr>\n",
       "      <th>min</th>\n",
       "      <td>1.000000</td>\n",
       "      <td>1.000000</td>\n",
       "      <td>0.000000</td>\n",
       "    </tr>\n",
       "    <tr>\n",
       "      <th>25%</th>\n",
       "      <td>3.000000</td>\n",
       "      <td>12.000000</td>\n",
       "      <td>30.000000</td>\n",
       "    </tr>\n",
       "    <tr>\n",
       "      <th>50%</th>\n",
       "      <td>5.500000</td>\n",
       "      <td>24.000000</td>\n",
       "      <td>47.000000</td>\n",
       "    </tr>\n",
       "    <tr>\n",
       "      <th>75%</th>\n",
       "      <td>8.000000</td>\n",
       "      <td>36.000000</td>\n",
       "      <td>70.000000</td>\n",
       "    </tr>\n",
       "    <tr>\n",
       "      <th>max</th>\n",
       "      <td>10.000000</td>\n",
       "      <td>47.000000</td>\n",
       "      <td>231.000000</td>\n",
       "    </tr>\n",
       "  </tbody>\n",
       "</table>\n",
       "</div>"
      ],
      "text/plain": [
       "               store           item          sales\n",
       "count  858220.000000  858220.000000  848302.000000\n",
       "mean        5.500000      24.000000      52.754637\n",
       "std         2.872283      13.564668      29.116697\n",
       "min         1.000000       1.000000       0.000000\n",
       "25%         3.000000      12.000000      30.000000\n",
       "50%         5.500000      24.000000      47.000000\n",
       "75%         8.000000      36.000000      70.000000\n",
       "max        10.000000      47.000000     231.000000"
      ]
     },
     "execution_count": 7,
     "metadata": {},
     "output_type": "execute_result"
    }
   ],
   "source": [
    "df.describe()"
   ]
  },
  {
   "cell_type": "code",
   "execution_count": 8,
   "id": "honey-bacon",
   "metadata": {},
   "outputs": [
    {
     "name": "stdout",
     "output_type": "stream",
     "text": [
      "Number of columns: 4\n",
      "date      object\n",
      "store      int64\n",
      "item       int64\n",
      "sales    float64\n",
      "dtype: object\n"
     ]
    }
   ],
   "source": [
    "print('Number of columns:', len(df.columns))\n",
    "print(df.dtypes)"
   ]
  },
  {
   "cell_type": "code",
   "execution_count": 9,
   "id": "respiratory-prefix",
   "metadata": {},
   "outputs": [
    {
     "name": "stdout",
     "output_type": "stream",
     "text": [
      "Number of null/empty values in column \"date\": 0\n",
      "Number of null/empty values in column \"store\": 0\n",
      "Number of null/empty values in column \"item\": 0\n",
      "Number of null/empty values in column \"sales\": 9918\n"
     ]
    }
   ],
   "source": [
    "for c in df.columns:\n",
    "    print('Number of null/empty values in column \"{}\": {}'.format(c, df[c].isnull().sum()))"
   ]
  },
  {
   "cell_type": "code",
   "execution_count": 10,
   "id": "changed-convert",
   "metadata": {},
   "outputs": [],
   "source": [
    "# labelling function\n",
    "def autolabel(plot, font_size=12):\n",
    "    for p in plot:\n",
    "        h = p.get_height()\n",
    "        ax.annotate('{}'.format(h), fontsize=font_size,\n",
    "                   xy=(p.get_x() + p.get_width()/2, h),\n",
    "                   xytext=(0,3),\n",
    "                   textcoords='offset points',\n",
    "                   ha='center', va='bottom')"
   ]
  },
  {
   "cell_type": "code",
   "execution_count": 11,
   "id": "streaming-parish",
   "metadata": {},
   "outputs": [
    {
     "data": {
      "image/png": "[encoded data removed]",
      "text/plain": [
       "<Figure size 720x576 with 1 Axes>"
      ]
     },
     "metadata": {
      "needs_background": "light"
     },
     "output_type": "display_data"
    }
   ],
   "source": [
    "df_store = df[['store']].value_counts()\n",
    "df_store = pd.pivot_table(df_store.to_frame(), values=0, index=[0,1,2,3,4,5,6,7,8,9], aggfunc=np.sum)\n",
    "df_store = df_store.reset_index()\n",
    "df_store  = df_store.rename(columns={'index':'store', 0: 'Counts'})\n",
    "\n",
    "fig, ax = plt.subplots(figsize=(10,8))\n",
    "x = np.arange(10)\n",
    "width = 0.5\n",
    "# sns.barplot(data=df_store, x='store', y='Counts')\n",
    "bar = ax.bar(x, df_store['Counts'], color=['red','blue','cyan','orange','purple','green','yellow','pink','black','teal'], alpha=.5, width=width)\n",
    "\n",
    "ax.set_title('Store Distribution Counts', fontsize=16)\n",
    "ax.set_xlabel('Store', fontsize=14)\n",
    "ax.set_ylabel('Counts', fontsize=14)\n",
    "ax.set_xticks(x)\n",
    "\n",
    "autolabel(bar)\n",
    "\n",
    "plt.show()"
   ]
  },
  {
   "cell_type": "code",
   "execution_count": 12,
   "id": "quick-mongolia",
   "metadata": {},
   "outputs": [
    {
     "data": {
      "text/plain": [
       "array([ 1,  2,  3,  4,  5,  6,  7,  8,  9, 10, 11, 12, 13, 14, 15, 16, 17,\n",
       "       18, 19, 20, 21, 22, 23, 24, 25, 26, 27, 28, 29, 30, 31, 32, 33, 34,\n",
       "       35, 36, 37, 38, 39, 40, 41, 42, 43, 44, 45, 46, 47], dtype=int64)"
      ]
     },
     "execution_count": 12,
     "metadata": {},
     "output_type": "execute_result"
    }
   ],
   "source": [
    "df['item'].unique()"
   ]
  },
  {
   "cell_type": "code",
   "execution_count": 13,
   "id": "induced-emphasis",
   "metadata": {},
   "outputs": [
    {
     "data": {
      "image/png": "[encoded data removed]",
      "text/plain": [
       "<Figure size 720x576 with 1 Axes>"
      ]
     },
     "metadata": {
      "needs_background": "light"
     },
     "output_type": "display_data"
    }
   ],
   "source": [
    "df_item = df[['item']].value_counts()\n",
    "df_item = pd.pivot_table(df_item.to_frame(), values=0, index=np.arange(1,48), aggfunc=np.sum)\n",
    "df_item = df_item.reset_index()\n",
    "df_item  = df_item.rename(columns={'index':'item', 0: 'Counts'})\n",
    "\n",
    "fig, ax = plt.subplots(figsize=(10,8))\n",
    "x = np.arange(47)\n",
    "width = 0.5\n",
    "sns.barplot(data=df_item, x='item', y='Counts')\n",
    "# bar = ax.bar(x, df_item['Counts'], color=['red','blue','cyan','orange','purple','green','yellow','pink','black','teal'], alpha=.5, width=width)\n",
    "\n",
    "ax.set_title('Item Distribution Counts', fontsize=16)\n",
    "ax.set_xlabel('Item', fontsize=14)\n",
    "ax.set_ylabel('Counts', fontsize=14)\n",
    "ax.set_xticks(x)\n",
    "\n",
    "plt.show()"
   ]
  },
  {
   "cell_type": "code",
   "execution_count": 14,
   "id": "eligible-mathematics",
   "metadata": {},
   "outputs": [
    {
     "data": {
      "image/png": "[encoded data removed]",
      "text/plain": [
       "<Figure size 720x576 with 1 Axes>"
      ]
     },
     "metadata": {
      "needs_background": "light"
     },
     "output_type": "display_data"
    }
   ],
   "source": [
    "df_sales = df[['sales']].value_counts()\n",
    "df_sales = df_sales.reset_index()\n",
    "\n",
    "fig, ax = plt.subplots(figsize=(10,8))\n",
    "sns.histplot(data=df_sales, x='sales', bins=20, ax=ax)\n",
    "\n",
    "ax.set_title('Sales Distribution Counts', fontsize=16)\n",
    "ax.set_xlabel('Sales Range', fontsize=14)\n",
    "ax.set_ylabel('Count', fontsize=14)\n",
    "plt.show()"
   ]
  },
  {
   "cell_type": "code",
   "execution_count": 15,
   "id": "aggregate-investor",
   "metadata": {},
   "outputs": [],
   "source": [
    "import datetime\n",
    "\n",
    "days = []\n",
    "months = []\n",
    "years = []\n",
    "for d in df['date']:\n",
    "    date_split = d.split('/')\n",
    "    days.append(date_split[1])\n",
    "    months.append(date_split[0])\n",
    "    years.append(date_split[2])\n",
    "    \n",
    "df['day'] = days\n",
    "df['month'] = months\n",
    "df['year'] = years"
   ]
  },
  {
   "cell_type": "code",
   "execution_count": 16,
   "id": "designing-interpretation",
   "metadata": {},
   "outputs": [
    {
     "data": {
      "text/html": [
       "<div>\n",
       "<style scoped>\n",
       "    .dataframe tbody tr th:only-of-type {\n",
       "        vertical-align: middle;\n",
       "    }\n",
       "\n",
       "    .dataframe tbody tr th {\n",
       "        vertical-align: top;\n",
       "    }\n",
       "\n",
       "    .dataframe thead th {\n",
       "        text-align: right;\n",
       "    }\n",
       "</style>\n",
       "<table border=\"1\" class=\"dataframe\">\n",
       "  <thead>\n",
       "    <tr style=\"text-align: right;\">\n",
       "      <th></th>\n",
       "      <th>date</th>\n",
       "      <th>store</th>\n",
       "      <th>item</th>\n",
       "      <th>sales</th>\n",
       "      <th>day</th>\n",
       "      <th>month</th>\n",
       "      <th>year</th>\n",
       "    </tr>\n",
       "  </thead>\n",
       "  <tbody>\n",
       "    <tr>\n",
       "      <th>0</th>\n",
       "      <td>1/1/13</td>\n",
       "      <td>1</td>\n",
       "      <td>1</td>\n",
       "      <td>13.0</td>\n",
       "      <td>1</td>\n",
       "      <td>1</td>\n",
       "      <td>13</td>\n",
       "    </tr>\n",
       "    <tr>\n",
       "      <th>1</th>\n",
       "      <td>1/2/13</td>\n",
       "      <td>1</td>\n",
       "      <td>1</td>\n",
       "      <td>11.0</td>\n",
       "      <td>2</td>\n",
       "      <td>1</td>\n",
       "      <td>13</td>\n",
       "    </tr>\n",
       "    <tr>\n",
       "      <th>2</th>\n",
       "      <td>1/3/13</td>\n",
       "      <td>1</td>\n",
       "      <td>1</td>\n",
       "      <td>14.0</td>\n",
       "      <td>3</td>\n",
       "      <td>1</td>\n",
       "      <td>13</td>\n",
       "    </tr>\n",
       "    <tr>\n",
       "      <th>3</th>\n",
       "      <td>1/4/13</td>\n",
       "      <td>1</td>\n",
       "      <td>1</td>\n",
       "      <td>13.0</td>\n",
       "      <td>4</td>\n",
       "      <td>1</td>\n",
       "      <td>13</td>\n",
       "    </tr>\n",
       "    <tr>\n",
       "      <th>4</th>\n",
       "      <td>1/5/13</td>\n",
       "      <td>1</td>\n",
       "      <td>1</td>\n",
       "      <td>10.0</td>\n",
       "      <td>5</td>\n",
       "      <td>1</td>\n",
       "      <td>13</td>\n",
       "    </tr>\n",
       "  </tbody>\n",
       "</table>\n",
       "</div>"
      ],
      "text/plain": [
       "     date  store  item  sales day month year\n",
       "0  1/1/13      1     1   13.0   1     1   13\n",
       "1  1/2/13      1     1   11.0   2     1   13\n",
       "2  1/3/13      1     1   14.0   3     1   13\n",
       "3  1/4/13      1     1   13.0   4     1   13\n",
       "4  1/5/13      1     1   10.0   5     1   13"
      ]
     },
     "execution_count": 16,
     "metadata": {},
     "output_type": "execute_result"
    }
   ],
   "source": [
    "df.head()"
   ]
  },
  {
   "cell_type": "code",
   "execution_count": 17,
   "id": "portuguese-biology",
   "metadata": {},
   "outputs": [
    {
     "data": {
      "text/html": [
       "<div>\n",
       "<style scoped>\n",
       "    .dataframe tbody tr th:only-of-type {\n",
       "        vertical-align: middle;\n",
       "    }\n",
       "\n",
       "    .dataframe tbody tr th {\n",
       "        vertical-align: top;\n",
       "    }\n",
       "\n",
       "    .dataframe thead th {\n",
       "        text-align: right;\n",
       "    }\n",
       "</style>\n",
       "<table border=\"1\" class=\"dataframe\">\n",
       "  <thead>\n",
       "    <tr style=\"text-align: right;\">\n",
       "      <th></th>\n",
       "      <th>year</th>\n",
       "      <th>total_sales</th>\n",
       "    </tr>\n",
       "  </thead>\n",
       "  <tbody>\n",
       "    <tr>\n",
       "      <th>0</th>\n",
       "      <td>13</td>\n",
       "      <td>7427851.0</td>\n",
       "    </tr>\n",
       "    <tr>\n",
       "      <th>1</th>\n",
       "      <td>14</td>\n",
       "      <td>8543795.0</td>\n",
       "    </tr>\n",
       "    <tr>\n",
       "      <th>2</th>\n",
       "      <td>15</td>\n",
       "      <td>8960093.0</td>\n",
       "    </tr>\n",
       "    <tr>\n",
       "      <th>3</th>\n",
       "      <td>16</td>\n",
       "      <td>9729859.0</td>\n",
       "    </tr>\n",
       "    <tr>\n",
       "      <th>4</th>\n",
       "      <td>17</td>\n",
       "      <td>10090266.0</td>\n",
       "    </tr>\n",
       "  </tbody>\n",
       "</table>\n",
       "</div>"
      ],
      "text/plain": [
       "  year  total_sales\n",
       "0   13    7427851.0\n",
       "1   14    8543795.0\n",
       "2   15    8960093.0\n",
       "3   16    9729859.0\n",
       "4   17   10090266.0"
      ]
     },
     "execution_count": 17,
     "metadata": {},
     "output_type": "execute_result"
    }
   ],
   "source": [
    "yearly_sales = []\n",
    "for y in df['year'].unique():\n",
    "    yearly_sales.append(df.loc[df['year'] == y, 'sales'].sum())\n",
    "    \n",
    "df_yearly_sales = pd.DataFrame({'year': df['year'].unique(), 'total_sales': yearly_sales})\n",
    "df_yearly_sales"
   ]
  },
  {
   "cell_type": "code",
   "execution_count": 18,
   "id": "ranking-brook",
   "metadata": {},
   "outputs": [
    {
     "data": {
      "image/png": "[encoded data removed]",
      "text/plain": [
       "<Figure size 720x576 with 1 Axes>"
      ]
     },
     "metadata": {
      "needs_background": "light"
     },
     "output_type": "display_data"
    }
   ],
   "source": [
    "fig, ax = plt.subplots(figsize=(10,8))\n",
    "x = df['year'].unique()\n",
    "width = 0.5\n",
    "sns.lineplot(data=df_yearly_sales, x='year', y='total_sales')\n",
    "bar = ax.scatter(x, df_yearly_sales['total_sales'], c=['red','blue','cyan','orange','purple'], alpha=.5)\n",
    "\n",
    "ax.set_title(\"Yearly sales (20')\", fontsize=16)\n",
    "ax.set_xlabel('Year', fontsize=14)\n",
    "ax.set_ylabel('Counts', fontsize=14)\n",
    "ax.set_xticks(x)\n",
    "\n",
    "plt.show()"
   ]
  },
  {
   "cell_type": "code",
   "execution_count": 19,
   "id": "productive-cambridge",
   "metadata": {},
   "outputs": [
    {
     "data": {
      "text/html": [
       "<div>\n",
       "<style scoped>\n",
       "    .dataframe tbody tr th:only-of-type {\n",
       "        vertical-align: middle;\n",
       "    }\n",
       "\n",
       "    .dataframe tbody tr th {\n",
       "        vertical-align: top;\n",
       "    }\n",
       "\n",
       "    .dataframe thead th {\n",
       "        text-align: right;\n",
       "    }\n",
       "</style>\n",
       "<table border=\"1\" class=\"dataframe\">\n",
       "  <thead>\n",
       "    <tr style=\"text-align: right;\">\n",
       "      <th></th>\n",
       "      <th>month</th>\n",
       "      <th>total_sales</th>\n",
       "    </tr>\n",
       "  </thead>\n",
       "  <tbody>\n",
       "    <tr>\n",
       "      <th>0</th>\n",
       "      <td>1</td>\n",
       "      <td>2583278.0</td>\n",
       "    </tr>\n",
       "    <tr>\n",
       "      <th>1</th>\n",
       "      <td>2</td>\n",
       "      <td>2603956.0</td>\n",
       "    </tr>\n",
       "    <tr>\n",
       "      <th>2</th>\n",
       "      <td>3</td>\n",
       "      <td>3438432.0</td>\n",
       "    </tr>\n",
       "    <tr>\n",
       "      <th>3</th>\n",
       "      <td>4</td>\n",
       "      <td>3879630.0</td>\n",
       "    </tr>\n",
       "    <tr>\n",
       "      <th>4</th>\n",
       "      <td>5</td>\n",
       "      <td>4298154.0</td>\n",
       "    </tr>\n",
       "    <tr>\n",
       "      <th>5</th>\n",
       "      <td>6</td>\n",
       "      <td>4433301.0</td>\n",
       "    </tr>\n",
       "    <tr>\n",
       "      <th>6</th>\n",
       "      <td>7</td>\n",
       "      <td>4870368.0</td>\n",
       "    </tr>\n",
       "    <tr>\n",
       "      <th>7</th>\n",
       "      <td>8</td>\n",
       "      <td>4295726.0</td>\n",
       "    </tr>\n",
       "    <tr>\n",
       "      <th>8</th>\n",
       "      <td>9</td>\n",
       "      <td>3874209.0</td>\n",
       "    </tr>\n",
       "    <tr>\n",
       "      <th>9</th>\n",
       "      <td>10</td>\n",
       "      <td>3723728.0</td>\n",
       "    </tr>\n",
       "    <tr>\n",
       "      <th>10</th>\n",
       "      <td>11</td>\n",
       "      <td>3886710.0</td>\n",
       "    </tr>\n",
       "    <tr>\n",
       "      <th>11</th>\n",
       "      <td>12</td>\n",
       "      <td>2864372.0</td>\n",
       "    </tr>\n",
       "  </tbody>\n",
       "</table>\n",
       "</div>"
      ],
      "text/plain": [
       "   month  total_sales\n",
       "0      1    2583278.0\n",
       "1      2    2603956.0\n",
       "2      3    3438432.0\n",
       "3      4    3879630.0\n",
       "4      5    4298154.0\n",
       "5      6    4433301.0\n",
       "6      7    4870368.0\n",
       "7      8    4295726.0\n",
       "8      9    3874209.0\n",
       "9     10    3723728.0\n",
       "10    11    3886710.0\n",
       "11    12    2864372.0"
      ]
     },
     "execution_count": 19,
     "metadata": {},
     "output_type": "execute_result"
    }
   ],
   "source": [
    "monthly_sales = []\n",
    "for m in df['month'].unique():\n",
    "    monthly_sales.append(df.loc[df['month'] == m, 'sales'].sum())\n",
    "    \n",
    "df_monthly_sales = pd.DataFrame({'month': df['month'].unique(), 'total_sales': monthly_sales})\n",
    "df_monthly_sales"
   ]
  },
  {
   "cell_type": "code",
   "execution_count": 20,
   "id": "extraordinary-angola",
   "metadata": {},
   "outputs": [
    {
     "data": {
      "image/png": "[encoded data removed]",
      "text/plain": [
       "<Figure size 720x576 with 1 Axes>"
      ]
     },
     "metadata": {
      "needs_background": "light"
     },
     "output_type": "display_data"
    }
   ],
   "source": [
    "fig, ax = plt.subplots(figsize=(10,8))\n",
    "x = df['month'].unique()\n",
    "\n",
    "sns.lineplot(data=df_monthly_sales, x='month', y='total_sales')\n",
    "bar = ax.scatter(x, df_monthly_sales['total_sales'], alpha=.5)\n",
    "\n",
    "ax.set_title(\"Monthly sales\", fontsize=16)\n",
    "ax.set_xlabel('Month', fontsize=14)\n",
    "ax.set_ylabel('Counts', fontsize=14)\n",
    "ax.set_xticks(x)\n",
    "\n",
    "plt.show()"
   ]
  },
  {
   "cell_type": "code",
   "execution_count": 21,
   "id": "reflected-tournament",
   "metadata": {},
   "outputs": [
    {
     "data": {
      "text/html": [
       "<div>\n",
       "<style scoped>\n",
       "    .dataframe tbody tr th:only-of-type {\n",
       "        vertical-align: middle;\n",
       "    }\n",
       "\n",
       "    .dataframe tbody tr th {\n",
       "        vertical-align: top;\n",
       "    }\n",
       "\n",
       "    .dataframe thead th {\n",
       "        text-align: right;\n",
       "    }\n",
       "</style>\n",
       "<table border=\"1\" class=\"dataframe\">\n",
       "  <thead>\n",
       "    <tr style=\"text-align: right;\">\n",
       "      <th></th>\n",
       "      <th>item</th>\n",
       "      <th>total_sales</th>\n",
       "    </tr>\n",
       "  </thead>\n",
       "  <tbody>\n",
       "    <tr>\n",
       "      <th>0</th>\n",
       "      <td>1</td>\n",
       "      <td>283011.0</td>\n",
       "    </tr>\n",
       "    <tr>\n",
       "      <th>1</th>\n",
       "      <td>2</td>\n",
       "      <td>1069564.0</td>\n",
       "    </tr>\n",
       "    <tr>\n",
       "      <th>2</th>\n",
       "      <td>3</td>\n",
       "      <td>669087.0</td>\n",
       "    </tr>\n",
       "    <tr>\n",
       "      <th>3</th>\n",
       "      <td>4</td>\n",
       "      <td>401907.0</td>\n",
       "    </tr>\n",
       "    <tr>\n",
       "      <th>4</th>\n",
       "      <td>5</td>\n",
       "      <td>335230.0</td>\n",
       "    </tr>\n",
       "    <tr>\n",
       "      <th>5</th>\n",
       "      <td>6</td>\n",
       "      <td>1068281.0</td>\n",
       "    </tr>\n",
       "    <tr>\n",
       "      <th>6</th>\n",
       "      <td>7</td>\n",
       "      <td>1068777.0</td>\n",
       "    </tr>\n",
       "    <tr>\n",
       "      <th>7</th>\n",
       "      <td>8</td>\n",
       "      <td>1405108.0</td>\n",
       "    </tr>\n",
       "    <tr>\n",
       "      <th>8</th>\n",
       "      <td>9</td>\n",
       "      <td>938379.0</td>\n",
       "    </tr>\n",
       "    <tr>\n",
       "      <th>9</th>\n",
       "      <td>10</td>\n",
       "      <td>1337133.0</td>\n",
       "    </tr>\n",
       "    <tr>\n",
       "      <th>10</th>\n",
       "      <td>11</td>\n",
       "      <td>1271925.0</td>\n",
       "    </tr>\n",
       "    <tr>\n",
       "      <th>11</th>\n",
       "      <td>12</td>\n",
       "      <td>1271534.0</td>\n",
       "    </tr>\n",
       "    <tr>\n",
       "      <th>12</th>\n",
       "      <td>13</td>\n",
       "      <td>1539621.0</td>\n",
       "    </tr>\n",
       "    <tr>\n",
       "      <th>13</th>\n",
       "      <td>14</td>\n",
       "      <td>1071531.0</td>\n",
       "    </tr>\n",
       "    <tr>\n",
       "      <th>14</th>\n",
       "      <td>15</td>\n",
       "      <td>1607442.0</td>\n",
       "    </tr>\n",
       "    <tr>\n",
       "      <th>15</th>\n",
       "      <td>16</td>\n",
       "      <td>468480.0</td>\n",
       "    </tr>\n",
       "    <tr>\n",
       "      <th>16</th>\n",
       "      <td>17</td>\n",
       "      <td>602486.0</td>\n",
       "    </tr>\n",
       "    <tr>\n",
       "      <th>17</th>\n",
       "      <td>18</td>\n",
       "      <td>1538876.0</td>\n",
       "    </tr>\n",
       "    <tr>\n",
       "      <th>18</th>\n",
       "      <td>19</td>\n",
       "      <td>736892.0</td>\n",
       "    </tr>\n",
       "    <tr>\n",
       "      <th>19</th>\n",
       "      <td>20</td>\n",
       "      <td>867641.0</td>\n",
       "    </tr>\n",
       "    <tr>\n",
       "      <th>20</th>\n",
       "      <td>21</td>\n",
       "      <td>736190.0</td>\n",
       "    </tr>\n",
       "    <tr>\n",
       "      <th>21</th>\n",
       "      <td>22</td>\n",
       "      <td>1469971.0</td>\n",
       "    </tr>\n",
       "    <tr>\n",
       "      <th>22</th>\n",
       "      <td>23</td>\n",
       "      <td>534979.0</td>\n",
       "    </tr>\n",
       "    <tr>\n",
       "      <th>23</th>\n",
       "      <td>24</td>\n",
       "      <td>1205975.0</td>\n",
       "    </tr>\n",
       "    <tr>\n",
       "      <th>24</th>\n",
       "      <td>25</td>\n",
       "      <td>1473334.0</td>\n",
       "    </tr>\n",
       "    <tr>\n",
       "      <th>25</th>\n",
       "      <td>26</td>\n",
       "      <td>869981.0</td>\n",
       "    </tr>\n",
       "    <tr>\n",
       "      <th>26</th>\n",
       "      <td>27</td>\n",
       "      <td>402628.0</td>\n",
       "    </tr>\n",
       "    <tr>\n",
       "      <th>27</th>\n",
       "      <td>28</td>\n",
       "      <td>1604713.0</td>\n",
       "    </tr>\n",
       "    <tr>\n",
       "      <th>28</th>\n",
       "      <td>29</td>\n",
       "      <td>1271240.0</td>\n",
       "    </tr>\n",
       "    <tr>\n",
       "      <th>29</th>\n",
       "      <td>30</td>\n",
       "      <td>736554.0</td>\n",
       "    </tr>\n",
       "    <tr>\n",
       "      <th>30</th>\n",
       "      <td>31</td>\n",
       "      <td>1025676.0</td>\n",
       "    </tr>\n",
       "    <tr>\n",
       "      <th>31</th>\n",
       "      <td>32</td>\n",
       "      <td>763189.0</td>\n",
       "    </tr>\n",
       "    <tr>\n",
       "      <th>32</th>\n",
       "      <td>33</td>\n",
       "      <td>1270183.0</td>\n",
       "    </tr>\n",
       "    <tr>\n",
       "      <th>33</th>\n",
       "      <td>34</td>\n",
       "      <td>469935.0</td>\n",
       "    </tr>\n",
       "    <tr>\n",
       "      <th>34</th>\n",
       "      <td>35</td>\n",
       "      <td>1201541.0</td>\n",
       "    </tr>\n",
       "    <tr>\n",
       "      <th>35</th>\n",
       "      <td>36</td>\n",
       "      <td>1406548.0</td>\n",
       "    </tr>\n",
       "    <tr>\n",
       "      <th>36</th>\n",
       "      <td>37</td>\n",
       "      <td>490316.0</td>\n",
       "    </tr>\n",
       "    <tr>\n",
       "      <th>37</th>\n",
       "      <td>38</td>\n",
       "      <td>1470330.0</td>\n",
       "    </tr>\n",
       "    <tr>\n",
       "      <th>38</th>\n",
       "      <td>39</td>\n",
       "      <td>801311.0</td>\n",
       "    </tr>\n",
       "    <tr>\n",
       "      <th>39</th>\n",
       "      <td>40</td>\n",
       "      <td>534094.0</td>\n",
       "    </tr>\n",
       "    <tr>\n",
       "      <th>40</th>\n",
       "      <td>41</td>\n",
       "      <td>401759.0</td>\n",
       "    </tr>\n",
       "    <tr>\n",
       "      <th>41</th>\n",
       "      <td>42</td>\n",
       "      <td>669925.0</td>\n",
       "    </tr>\n",
       "    <tr>\n",
       "      <th>42</th>\n",
       "      <td>43</td>\n",
       "      <td>936635.0</td>\n",
       "    </tr>\n",
       "    <tr>\n",
       "      <th>43</th>\n",
       "      <td>44</td>\n",
       "      <td>536811.0</td>\n",
       "    </tr>\n",
       "    <tr>\n",
       "      <th>44</th>\n",
       "      <td>45</td>\n",
       "      <td>1471467.0</td>\n",
       "    </tr>\n",
       "    <tr>\n",
       "      <th>45</th>\n",
       "      <td>46</td>\n",
       "      <td>1070764.0</td>\n",
       "    </tr>\n",
       "    <tr>\n",
       "      <th>46</th>\n",
       "      <td>47</td>\n",
       "      <td>372910.0</td>\n",
       "    </tr>\n",
       "  </tbody>\n",
       "</table>\n",
       "</div>"
      ],
      "text/plain": [
       "    item  total_sales\n",
       "0      1     283011.0\n",
       "1      2    1069564.0\n",
       "2      3     669087.0\n",
       "3      4     401907.0\n",
       "4      5     335230.0\n",
       "5      6    1068281.0\n",
       "6      7    1068777.0\n",
       "7      8    1405108.0\n",
       "8      9     938379.0\n",
       "9     10    1337133.0\n",
       "10    11    1271925.0\n",
       "11    12    1271534.0\n",
       "12    13    1539621.0\n",
       "13    14    1071531.0\n",
       "14    15    1607442.0\n",
       "15    16     468480.0\n",
       "16    17     602486.0\n",
       "17    18    1538876.0\n",
       "18    19     736892.0\n",
       "19    20     867641.0\n",
       "20    21     736190.0\n",
       "21    22    1469971.0\n",
       "22    23     534979.0\n",
       "23    24    1205975.0\n",
       "24    25    1473334.0\n",
       "25    26     869981.0\n",
       "26    27     402628.0\n",
       "27    28    1604713.0\n",
       "28    29    1271240.0\n",
       "29    30     736554.0\n",
       "30    31    1025676.0\n",
       "31    32     763189.0\n",
       "32    33    1270183.0\n",
       "33    34     469935.0\n",
       "34    35    1201541.0\n",
       "35    36    1406548.0\n",
       "36    37     490316.0\n",
       "37    38    1470330.0\n",
       "38    39     801311.0\n",
       "39    40     534094.0\n",
       "40    41     401759.0\n",
       "41    42     669925.0\n",
       "42    43     936635.0\n",
       "43    44     536811.0\n",
       "44    45    1471467.0\n",
       "45    46    1070764.0\n",
       "46    47     372910.0"
      ]
     },
     "execution_count": 21,
     "metadata": {},
     "output_type": "execute_result"
    }
   ],
   "source": [
    "overall_item_sales = []\n",
    "for i in df['item'].unique():\n",
    "    overall_item_sales.append(df.loc[df['item'] == i, 'sales'].sum())\n",
    "    \n",
    "df_overall_item_sales = pd.DataFrame({'item': df['item'].unique(), 'total_sales': overall_item_sales})\n",
    "df_overall_item_sales"
   ]
  },
  {
   "cell_type": "code",
   "execution_count": 22,
   "id": "amazing-partition",
   "metadata": {},
   "outputs": [
    {
     "data": {
      "image/png": "[encoded data removed]",
      "text/plain": [
       "<Figure size 720x576 with 1 Axes>"
      ]
     },
     "metadata": {
      "needs_background": "light"
     },
     "output_type": "display_data"
    }
   ],
   "source": [
    "fig, ax = plt.subplots(figsize=(10,8))\n",
    "x = df['item'].unique()\n",
    "width = 0.5\n",
    "bar = ax.bar(x, df_overall_item_sales['total_sales'], alpha=.5, width=width)\n",
    "\n",
    "ax.set_title('Item Sales Distribution Counts', fontsize=16)\n",
    "ax.set_xlabel('Item', fontsize=14)\n",
    "ax.set_ylabel('Total Sales', fontsize=14)\n",
    "ax.set_xticks(x)\n",
    "\n",
    "plt.show()"
   ]
  },
  {
   "cell_type": "code",
   "execution_count": 23,
   "id": "stopped-knitting",
   "metadata": {},
   "outputs": [
    {
     "data": {
      "image/png": "[encoded data removed]",
      "text/plain": [
       "<Figure size 720x576 with 1 Axes>"
      ]
     },
     "metadata": {
      "needs_background": "light"
     },
     "output_type": "display_data"
    }
   ],
   "source": [
    "df_item_sales_month = df[['item', 'sales', 'month']]\n",
    "df_item_sales_month = df_item_sales_month.groupby(by=['month', 'item']).sum()\n",
    "df_item_sales_month = df_item_sales_month.reset_index()\n",
    "\n",
    "month_idx = 1\n",
    "fig, ax = plt.subplots(figsize=(10,8))\n",
    "df_temp = df_item_sales_month[df_item_sales_month['month'] == str(month_idx)]\n",
    "sns.barplot(data=df_temp, x='item', y='sales')\n",
    "\n",
    "ax.set_title('Total Sales for Each Item on Month:{}'.format(month_idx), fontsize=16)\n",
    "ax.set_xlabel('Item', fontsize=14)\n",
    "ax.set_ylabel('Total Sales', fontsize=14)\n",
    "ax.set_xticks(x)\n",
    "\n",
    "plt.show()"
   ]
  },
  {
   "cell_type": "code",
   "execution_count": 24,
   "id": "developmental-hudson",
   "metadata": {},
   "outputs": [
    {
     "data": {
      "image/png": "[encoded data removed]",
      "text/plain": [
       "<Figure size 720x1080 with 5 Axes>"
      ]
     },
     "metadata": {
      "needs_background": "light"
     },
     "output_type": "display_data"
    }
   ],
   "source": [
    "df_item_sales_year = df[['item', 'sales', 'year']]\n",
    "df_item_sales_year = df_item_sales_year.groupby(by=['year', 'item']).sum()\n",
    "df_item_sales_year = df_item_sales_year.reset_index()\n",
    "\n",
    "years = df_item_sales_year['year'].unique()\n",
    "nrows = 5\n",
    "ncols = 1\n",
    "cnt = 1\n",
    "\n",
    "fig = plt.figure(figsize=(10,15))\n",
    "for i in years:\n",
    "    plt.subplot(nrows, ncols, cnt)\n",
    "    plt.title('Total Item Sales Year:20{}'.format(i))\n",
    "    plt.xlabel('item')\n",
    "    sns.barplot(x='item', y='sales', data=df_item_sales_year[df_item_sales_year['year']==i])\n",
    "    cnt = cnt + 1\n",
    "\n",
    "plt.subplots_adjust(top=2)\n",
    "plt.show()"
   ]
  },
  {
   "cell_type": "markdown",
   "id": "prospective-nudist",
   "metadata": {},
   "source": [
    "# Building Forecasting Model"
   ]
  },
  {
   "cell_type": "code",
   "execution_count": 41,
   "id": "increased-heart",
   "metadata": {},
   "outputs": [],
   "source": [
    "import datetime\n",
    "\n",
    "df_copy = raw_data.copy()\n",
    "\n",
    "sales_avg = df_copy['sales'].mean()\n",
    "df_copy = df_copy.fillna(value=sales_avg, axis=1)\n",
    "\n",
    "df_copy['Date'] = pd.to_datetime(df_copy['date'])\n",
    "df_copy['Date'] = df_copy['Date'].dt.strftime('%m-%d-%Y')"
   ]
  },
  {
   "cell_type": "code",
   "execution_count": 42,
   "id": "prerequisite-terminal",
   "metadata": {},
   "outputs": [
    {
     "data": {
      "text/html": [
       "<div>\n",
       "<style scoped>\n",
       "    .dataframe tbody tr th:only-of-type {\n",
       "        vertical-align: middle;\n",
       "    }\n",
       "\n",
       "    .dataframe tbody tr th {\n",
       "        vertical-align: top;\n",
       "    }\n",
       "\n",
       "    .dataframe thead th {\n",
       "        text-align: right;\n",
       "    }\n",
       "</style>\n",
       "<table border=\"1\" class=\"dataframe\">\n",
       "  <thead>\n",
       "    <tr style=\"text-align: right;\">\n",
       "      <th></th>\n",
       "      <th>date</th>\n",
       "      <th>store</th>\n",
       "      <th>item</th>\n",
       "      <th>sales</th>\n",
       "      <th>Date</th>\n",
       "    </tr>\n",
       "  </thead>\n",
       "  <tbody>\n",
       "    <tr>\n",
       "      <th>0</th>\n",
       "      <td>1/1/13</td>\n",
       "      <td>1</td>\n",
       "      <td>1</td>\n",
       "      <td>13.0</td>\n",
       "      <td>01-01-2013</td>\n",
       "    </tr>\n",
       "    <tr>\n",
       "      <th>1</th>\n",
       "      <td>1/2/13</td>\n",
       "      <td>1</td>\n",
       "      <td>1</td>\n",
       "      <td>11.0</td>\n",
       "      <td>01-02-2013</td>\n",
       "    </tr>\n",
       "    <tr>\n",
       "      <th>2</th>\n",
       "      <td>1/3/13</td>\n",
       "      <td>1</td>\n",
       "      <td>1</td>\n",
       "      <td>14.0</td>\n",
       "      <td>01-03-2013</td>\n",
       "    </tr>\n",
       "    <tr>\n",
       "      <th>3</th>\n",
       "      <td>1/4/13</td>\n",
       "      <td>1</td>\n",
       "      <td>1</td>\n",
       "      <td>13.0</td>\n",
       "      <td>01-04-2013</td>\n",
       "    </tr>\n",
       "    <tr>\n",
       "      <th>4</th>\n",
       "      <td>1/5/13</td>\n",
       "      <td>1</td>\n",
       "      <td>1</td>\n",
       "      <td>10.0</td>\n",
       "      <td>01-05-2013</td>\n",
       "    </tr>\n",
       "  </tbody>\n",
       "</table>\n",
       "</div>"
      ],
      "text/plain": [
       "     date  store  item  sales        Date\n",
       "0  1/1/13      1     1   13.0  01-01-2013\n",
       "1  1/2/13      1     1   11.0  01-02-2013\n",
       "2  1/3/13      1     1   14.0  01-03-2013\n",
       "3  1/4/13      1     1   13.0  01-04-2013\n",
       "4  1/5/13      1     1   10.0  01-05-2013"
      ]
     },
     "execution_count": 42,
     "metadata": {},
     "output_type": "execute_result"
    }
   ],
   "source": [
    "df_copy.head()"
   ]
  },
  {
   "cell_type": "code",
   "execution_count": null,
   "id": "anonymous-accountability",
   "metadata": {},
   "outputs": [],
   "source": [
    "df_grouped_by_date = df_copy.groupby(by=['Date'],)"
   ]
  }
 ],
 "metadata": {
  "kernelspec": {
   "display_name": "Python 3",
   "language": "python",
   "name": "python3"
  },
  "language_info": {
   "codemirror_mode": {
    "name": "ipython",
    "version": 3
   },
   "file_extension": ".py",
   "mimetype": "text/x-python",
   "name": "python",
   "nbconvert_exporter": "python",
   "pygments_lexer": "ipython3",
   "version": "3.8.5"
  }
 },
 "nbformat": 4,
 "nbformat_minor": 5
}
